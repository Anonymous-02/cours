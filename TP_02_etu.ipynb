{
 "cells": [
  {
   "cell_type": "markdown",
   "metadata": {
    "slideshow": {
     "slide_type": ""
    },
    "tags": []
   },
   "source": [
    "## M8 - TP2 \n",
    "\n",
    "## Objectifs\n",
    "\n",
    "Le but de ce TP est de manipuler, analyser et implémenter les descripteurs mono variables vus en cours comme la moyenne, médiane, modalités, effectifs et fréquence. \n",
    "\n",
    "\n",
    "À la fin du TP, il faudra être capable de prendre en main un jeu de données, et de mettre en oeuvre les descripteurs pertinents au regard de la nature de la variable.  \n",
    "\n",
    "### Compétences associées :\n",
    "\n",
    "| Numéro        | Compétence           | \n",
    "|:------------- |:--------------------:|\n",
    "|PY001 |\tÊtre capable de calculer des statistiques basiques en Python |\n",
    "|PY002 |\tÊtre capable de calculer des statistiques basiques avec numpy/scipy|\n",
    "|AS001|\tSavoir identifier les caractéristiques d’une variable (qualitative /quantitative, continue/discrete, |domaine, modalités, etc)|\n",
    "|AS002|\tÊtre capable de retrouver le nombre d’exemples d’un jeu de données et leur dimensions|\n",
    "|AS003|\tEtre capable de calculer des statistiques basiques (moyenne, fréquence, médian, etc)|\n",
    "|AS004|\tEtre capable de choisir la bonne statistique par rapport aux caractéristique des données|\n",
    "|AS005|\tConnaitre les définitions mathématiques des statistiques de base|\n",
    "\n"
   ]
  },
  {
   "cell_type": "code",
   "execution_count": 2,
   "metadata": {
    "slideshow": {
     "slide_type": ""
    },
    "tags": []
   },
   "outputs": [],
   "source": [
    "#importation des bibliothèques\n",
    "import numpy as np\n",
    "import matplotlib.pyplot as plt"
   ]
  },
  {
   "cell_type": "markdown",
   "metadata": {
    "slideshow": {
     "slide_type": ""
    },
    "tags": []
   },
   "source": [
    "##  Des vraies données\n",
    "1. Récupérez le fichier data1.dat sur moodle (les données du TP1 dans l’onglet TP). Copiez le dans le répertoire courant. Chargez les données du fichier data1.dat  et vérifiez que vous l’avez bien fait.\n",
    "    > Utilisez la fonction `loadtxt` de numpy"
   ]
  },
  {
   "cell_type": "code",
   "execution_count": 3,
   "metadata": {
    "slideshow": {
     "slide_type": ""
    },
    "tags": []
   },
   "outputs": [],
   "source": [
    "data = np.loadtxt('data1')"
   ]
  },
  {
   "cell_type": "markdown",
   "metadata": {
    "slideshow": {
     "slide_type": ""
    },
    "tags": []
   },
   "source": [
    "2. Quelles sont les dimensions des données ? Combien d'observations $n$ et chaque observation est décrite par combien de variables $p$ ?"
   ]
  },
  {
   "cell_type": "code",
   "execution_count": 4,
   "metadata": {
    "slideshow": {
     "slide_type": ""
    },
    "tags": []
   },
   "outputs": [
    {
     "data": {
      "text/plain": [
       "(410, 46)"
      ]
     },
     "execution_count": 4,
     "metadata": {},
     "output_type": "execute_result"
    }
   ],
   "source": [
    "n,p = np.shape(data)\n",
    "n,p"
   ]
  },
  {
   "cell_type": "markdown",
   "metadata": {
    "slideshow": {
     "slide_type": ""
    },
    "tags": []
   },
   "source": [
    "3. Nous allons travailler sur la treizième variable. Il faut donc extraire la variable indicée par 12 du tableau data1 et affectez la à une variable `x`. Quelle est la nature de cette variable ?"
   ]
  },
  {
   "cell_type": "code",
   "execution_count": 5,
   "metadata": {
    "slideshow": {
     "slide_type": ""
    },
    "tags": []
   },
   "outputs": [
    {
     "data": {
      "text/plain": [
       "numpy.ndarray"
      ]
     },
     "execution_count": 5,
     "metadata": {},
     "output_type": "execute_result"
    }
   ],
   "source": [
    "x = data[:,12]\n",
    "type(x)"
   ]
  },
  {
   "cell_type": "markdown",
   "metadata": {
    "slideshow": {
     "slide_type": ""
    },
    "tags": []
   },
   "source": [
    "4. Calculez la moyenne de la variable x de deux manières différentes."
   ]
  },
  {
   "cell_type": "code",
   "execution_count": 6,
   "metadata": {
    "slideshow": {
     "slide_type": ""
    },
    "tags": []
   },
   "outputs": [
    {
     "data": {
      "text/plain": [
       "18.647560975609757"
      ]
     },
     "execution_count": 6,
     "metadata": {},
     "output_type": "execute_result"
    }
   ],
   "source": [
    "np.sum(x)/np.size(x)\n",
    "np.mean(x)#ou bien np.average(x)"
   ]
  },
  {
   "cell_type": "markdown",
   "metadata": {
    "slideshow": {
     "slide_type": ""
    },
    "tags": []
   },
   "source": [
    "5. Calculez, à partir des observations de x, $\\hat{\\mathbb{P}}(x ≤ 50)$ et la fréquence empirique d’observation des la modalité $50 : \\hat{\\mathbb{P}}(x = 50)$"
   ]
  },
  {
   "cell_type": "code",
   "execution_count": 7,
   "metadata": {
    "slideshow": {
     "slide_type": ""
    },
    "tags": []
   },
   "outputs": [
    {
     "data": {
      "text/plain": [
       "(0.9878048780487805, 0.004878048780487805)"
      ]
     },
     "execution_count": 7,
     "metadata": {},
     "output_type": "execute_result"
    }
   ],
   "source": [
    "np.size(x[x<50])/np.size(x), np.size(x[x == 50])/np.size(x)"
   ]
  },
  {
   "cell_type": "markdown",
   "metadata": {
    "slideshow": {
     "slide_type": ""
    },
    "tags": []
   },
   "source": [
    "6. Recherchez des différentes modalités de la variable x"
   ]
  },
  {
   "cell_type": "code",
   "execution_count": 8,
   "metadata": {
    "slideshow": {
     "slide_type": ""
    },
    "tags": []
   },
   "outputs": [
    {
     "data": {
      "text/plain": [
       "array([ 0. ,  2. ,  3. ,  4. ,  5. ,  6. ,  6.5,  7. ,  7.5,  8. ,  8.5,\n",
       "        9. , 10. , 10.5, 11. , 11.5, 12. , 12.5, 13. , 14. , 14.5, 15. ,\n",
       "       16. , 16.5, 17. , 17.5, 18. , 19. , 20. , 20.5, 21. , 22. , 22.5,\n",
       "       23. , 23.5, 24. , 25. , 25.5, 26. , 27. , 27.5, 28. , 28.5, 29.5,\n",
       "       30. , 31. , 32. , 33. , 34. , 35. , 36. , 37.5, 38. , 40. , 42. ,\n",
       "       45. , 46. , 50. , 55. , 60. ])"
      ]
     },
     "execution_count": 8,
     "metadata": {},
     "output_type": "execute_result"
    }
   ],
   "source": [
    "np.unique(x)"
   ]
  },
  {
   "cell_type": "markdown",
   "metadata": {
    "slideshow": {
     "slide_type": ""
    },
    "tags": []
   },
   "source": [
    "7. Calculez des effectifs par modalité"
   ]
  },
  {
   "cell_type": "code",
   "execution_count": 9,
   "metadata": {
    "slideshow": {
     "slide_type": ""
    },
    "tags": []
   },
   "outputs": [
    {
     "data": {
      "text/plain": [
       "(array([ 0. ,  2. ,  3. ,  4. ,  5. ,  6. ,  6.5,  7. ,  7.5,  8. ,  8.5,\n",
       "         9. , 10. , 10.5, 11. , 11.5, 12. , 12.5, 13. , 14. , 14.5, 15. ,\n",
       "        16. , 16.5, 17. , 17.5, 18. , 19. , 20. , 20.5, 21. , 22. , 22.5,\n",
       "        23. , 23.5, 24. , 25. , 25.5, 26. , 27. , 27.5, 28. , 28.5, 29.5,\n",
       "        30. , 31. , 32. , 33. , 34. , 35. , 36. , 37.5, 38. , 40. , 42. ,\n",
       "        45. , 46. , 50. , 55. , 60. ]),\n",
       " array([ 5,  2,  2,  9,  2, 11,  4, 10,  1,  9,  1, 11, 34,  2,  6,  1, 20,\n",
       "         1, 13,  9,  2, 38, 10,  1,  7,  4,  7,  7, 45,  1,  2,  7,  3,  3,\n",
       "         1,  3, 26,  2,  2,  6,  2,  8,  1,  1, 19,  3,  7,  4,  1, 11,  4,\n",
       "         1,  1,  8,  1,  2,  1,  2,  1,  2]))"
      ]
     },
     "execution_count": 9,
     "metadata": {},
     "output_type": "execute_result"
    }
   ],
   "source": [
    "modalités, effectifs = np.unique(x, return_counts=True)\n",
    "modalités, effectifs"
   ]
  },
  {
   "cell_type": "markdown",
   "metadata": {
    "slideshow": {
     "slide_type": ""
    },
    "tags": []
   },
   "source": [
    "8. Calculez des effectifs cumulés de chaque modalité, les fréquences et les fréquences cumulées."
   ]
  },
  {
   "cell_type": "code",
   "execution_count": 10,
   "metadata": {
    "slideshow": {
     "slide_type": ""
    },
    "tags": []
   },
   "outputs": [
    {
     "data": {
      "text/plain": [
       "(array([0.01219512, 0.00487805, 0.00487805, 0.02195122, 0.00487805,\n",
       "        0.02682927, 0.0097561 , 0.02439024, 0.00243902, 0.02195122,\n",
       "        0.00243902, 0.02682927, 0.08292683, 0.00487805, 0.01463415,\n",
       "        0.00243902, 0.04878049, 0.00243902, 0.03170732, 0.02195122,\n",
       "        0.00487805, 0.09268293, 0.02439024, 0.00243902, 0.01707317,\n",
       "        0.0097561 , 0.01707317, 0.01707317, 0.1097561 , 0.00243902,\n",
       "        0.00487805, 0.01707317, 0.00731707, 0.00731707, 0.00243902,\n",
       "        0.00731707, 0.06341463, 0.00487805, 0.00487805, 0.01463415,\n",
       "        0.00487805, 0.0195122 , 0.00243902, 0.00243902, 0.04634146,\n",
       "        0.00731707, 0.01707317, 0.0097561 , 0.00243902, 0.02682927,\n",
       "        0.0097561 , 0.00243902, 0.00243902, 0.0195122 , 0.00243902,\n",
       "        0.00487805, 0.00243902, 0.00487805, 0.00243902, 0.00487805]),\n",
       " array([0.01219512, 0.01707317, 0.02195122, 0.04390244, 0.04878049,\n",
       "        0.07560976, 0.08536585, 0.1097561 , 0.11219512, 0.13414634,\n",
       "        0.13658537, 0.16341463, 0.24634146, 0.25121951, 0.26585366,\n",
       "        0.26829268, 0.31707317, 0.3195122 , 0.35121951, 0.37317073,\n",
       "        0.37804878, 0.47073171, 0.49512195, 0.49756098, 0.51463415,\n",
       "        0.52439024, 0.54146341, 0.55853659, 0.66829268, 0.67073171,\n",
       "        0.67560976, 0.69268293, 0.7       , 0.70731707, 0.7097561 ,\n",
       "        0.71707317, 0.7804878 , 0.78536585, 0.7902439 , 0.80487805,\n",
       "        0.8097561 , 0.82926829, 0.83170732, 0.83414634, 0.8804878 ,\n",
       "        0.88780488, 0.90487805, 0.91463415, 0.91707317, 0.94390244,\n",
       "        0.95365854, 0.95609756, 0.95853659, 0.97804878, 0.9804878 ,\n",
       "        0.98536585, 0.98780488, 0.99268293, 0.99512195, 1.        ]))"
      ]
     },
     "execution_count": 10,
     "metadata": {},
     "output_type": "execute_result"
    }
   ],
   "source": [
    "effectifs_cumulés, fréquences, fréquences_cumulés = np.cumsum(effectifs),\\\n",
    "effectifs/np.size(x), np.cumsum(effectifs)/np.size(x)\n",
    "fréquences, fréquences_cumulés"
   ]
  },
  {
   "cell_type": "markdown",
   "metadata": {
    "slideshow": {
     "slide_type": ""
    },
    "tags": []
   },
   "source": [
    "9. Affichez les résultats de vos calculs dans un tableau présentant les modalités, leurs effectifs, effectifs cumulés, puis les fréquences et les fréquences cumulées."
   ]
  },
  {
   "cell_type": "code",
   "execution_count": 11,
   "metadata": {
    "slideshow": {
     "slide_type": ""
    },
    "tags": []
   },
   "outputs": [],
   "source": [
    "tab = np.array([modalités, effectifs, effectifs_cumulés, fréquences, fréquences_cumulés]).transpose()"
   ]
  },
  {
   "cell_type": "markdown",
   "metadata": {
    "slideshow": {
     "slide_type": ""
    },
    "tags": []
   },
   "source": [
    "10. Affichez la fonction de répartition empirique de la variable x."
   ]
  },
  {
   "cell_type": "code",
   "execution_count": 17,
   "metadata": {
    "slideshow": {
     "slide_type": ""
    },
    "tags": []
   },
   "outputs": [
    {
     "data": {
      "text/plain": [
       "[<matplotlib.lines.Line2D at 0x7f073ff29f60>]"
      ]
     },
     "execution_count": 17,
     "metadata": {},
     "output_type": "execute_result"
    },
    {
     "data": {
      "image/png": "[encoded data removed]",
      "text/plain": [
       "<Figure size 432x288 with 1 Axes>"
      ]
     },
     "metadata": {
      "needs_background": "light"
     },
     "output_type": "display_data"
    }
   ],
   "source": [
    "plt.plot(modalités, fréquences_cumulés)"
   ]
  },
  {
   "cell_type": "markdown",
   "metadata": {
    "slideshow": {
     "slide_type": ""
    },
    "tags": []
   },
   "source": [
    "11. Calculez la médiane de deux manières différentes : \n",
    " - En utilisant la fonction NumPy et  \n",
    " - Graphiquement en utilisant la fonction de répartition empirique que vous venez de dessiner.\n",
    " "
   ]
  },
  {
   "cell_type": "code",
   "execution_count": 32,
   "metadata": {
    "slideshow": {
     "slide_type": ""
    },
    "tags": []
   },
   "outputs": [
    {
     "data": {
      "text/plain": [
       "17.0"
      ]
     },
     "execution_count": 32,
     "metadata": {},
     "output_type": "execute_result"
    },
    {
     "data": {
      "image/png": "[encoded data removed]",
      "text/plain": [
       "<Figure size 432x288 with 1 Axes>"
      ]
     },
     "metadata": {
      "needs_background": "light"
     },
     "output_type": "display_data"
    }
   ],
   "source": [
    "plt.plot(modalités, fréquences_cumulés)\n",
    "plt.plot([17]*60,fréquences_cumulés)\n",
    "np.median(x)"
   ]
  },
  {
   "cell_type": "markdown",
   "metadata": {},
   "source": [
    "12. Visualisez les fréquences observées de trois manières différentes. A l’aide d’un histogramme standard à 10 bins, un histogramme détaillé à 50 bins, et en affichant les effectifs pour chacune des modalités. La quelle de ces trois vue vous parait la plus intéressante ?"
   ]
  },
  {
   "cell_type": "code",
   "execution_count": 53,
   "metadata": {
    "slideshow": {
     "slide_type": ""
    },
    "tags": []
   },
   "outputs": [
    {
     "data": {
      "text/plain": [
       "[<matplotlib.lines.Line2D at 0x7f073d53af20>]"
      ]
     },
     "execution_count": 53,
     "metadata": {},
     "output_type": "execute_result"
    },
    {
     "data": {
      "image/png": "[encoded data removed]",
      "text/plain": [
       "<Figure size 432x288 with 1 Axes>"
      ]
     },
     "metadata": {
      "needs_background": "light"
     },
     "output_type": "display_data"
    }
   ],
   "source": [
    "plt.hist(x, 10)\n",
    "plt.hist(x, 50)\n",
    "plt.plot(modalités, effectifs)"
   ]
  },
  {
   "cell_type": "markdown",
   "metadata": {
    "slideshow": {
     "slide_type": ""
    },
    "tags": []
   },
   "source": [
    "## Correction d'examen\n",
    "Un professeur souhaite étudier statistiquement les notes sur 10 obtenues par ses élèves à un examen. Les résultats sont donnés dans le tableau ci-dessous.\n",
    "\\begin{array}{c|c}\n",
    "Nom & Note \\\\\n",
    "  \\hline\n",
    "mike &6\\\\\n",
    "bob &5\\\\\n",
    "evan &9\\\\\n",
    "ruppert &3\\\\\n",
    "aaron &3\\\\\n",
    "steve &1\\\\\n",
    "zachariy &9\\\\\n",
    "logan &6\\\\\n",
    "roger &5\\\\\n",
    "don &6\\\\\n",
    "bill &5\\\\\n",
    "ron &6\\\\\n",
    "karl &5\\\\\n",
    "stefen &7\\\\\n",
    "tom &5\\\\\n",
    "neil &10\\\\\n",
    "john &2\\\\\n",
    "george &1\\\\\n",
    "dave &1\\\\\n",
    "tim &1\n",
    "\\end{array}"
   ]
  },
  {
   "cell_type": "markdown",
   "metadata": {},
   "source": [
    "1. Quel est le domaine de la variable ?\n",
    "2. Quelles sont les différentes modalités observées ? \n",
    "3. Quelle la nature de la variable ?"
   ]
  },
  {
   "cell_type": "code",
   "execution_count": 58,
   "metadata": {
    "slideshow": {
     "slide_type": ""
    },
    "tags": []
   },
   "outputs": [],
   "source": [
    "#Création du tableau\n",
    "x = np.array([6, 5, 9, 3, 3, 1, 9, 6, 5, 6, 5, 6, 5, 7, 5, 10, 2, 1, 1, 1])\n"
   ]
  },
  {
   "cell_type": "code",
   "execution_count": 59,
   "metadata": {
    "slideshow": {
     "slide_type": ""
    },
    "tags": []
   },
   "outputs": [
    {
     "data": {
      "text/plain": [
       "(1, 10, array([ 1,  2,  3,  5,  6,  7,  9, 10]), numpy.ndarray)"
      ]
     },
     "execution_count": 59,
     "metadata": {},
     "output_type": "execute_result"
    }
   ],
   "source": [
    "np.min(x), np.max(x), np.unique(x), type(x)"
   ]
  },
  {
   "cell_type": "markdown",
   "metadata": {},
   "source": [
    "la variable est quantitative discrete"
   ]
  },
  {
   "cell_type": "markdown",
   "metadata": {},
   "source": [
    "2. Le code suivant calcule les effectifs $n_i$ et les effectifs cumulés $N_i$ de chaque modalité. Calculez les effectifs cumulés d'une autre manière et vérifier que vous obtenez les mêmes résultats"
   ]
  },
  {
   "cell_type": "code",
   "execution_count": 61,
   "metadata": {
    "slideshow": {
     "slide_type": ""
    },
    "tags": []
   },
   "outputs": [
    {
     "name": "stdout",
     "output_type": "stream",
     "text": [
      "[ 4.  5.  7. 12. 16. 17. 19. 20.]\n"
     ]
    }
   ],
   "source": [
    "Mi, ni = np.unique(x, return_counts=True)\n",
    "Ni = np.zeros(ni.shape)\n",
    "Ni[0] = ni[0]\n",
    "for i in range(0, len(Ni) - 1):    \n",
    "    Ni[i+1] = Ni[i] + ni[i+1]\n",
    "print(Ni)"
   ]
  },
  {
   "cell_type": "code",
   "execution_count": 65,
   "metadata": {
    "slideshow": {
     "slide_type": ""
    },
    "tags": []
   },
   "outputs": [
    {
     "data": {
      "text/plain": [
       "array([ 4,  5,  7, 12, 16, 17, 19, 20])"
      ]
     },
     "execution_count": 65,
     "metadata": {},
     "output_type": "execute_result"
    }
   ],
   "source": [
    "eff_cumul = np.cumsum(ni)\n",
    "eff_cumul"
   ]
  },
  {
   "cell_type": "markdown",
   "metadata": {
    "slideshow": {
     "slide_type": ""
    },
    "tags": []
   },
   "source": [
    "3. Calculez les effectifs par modalité, les fréquences et les fréquences cumulées des notes et affichez-les"
   ]
  },
  {
   "cell_type": "code",
   "execution_count": null,
   "metadata": {
    "slideshow": {
     "slide_type": ""
    },
    "tags": []
   },
   "outputs": [],
   "source": []
  },
  {
   "cell_type": "markdown",
   "metadata": {
    "slideshow": {
     "slide_type": ""
    },
    "tags": []
   },
   "source": [
    "4. Tracez la fonction de répartition empirique des notes."
   ]
  },
  {
   "cell_type": "code",
   "execution_count": null,
   "metadata": {
    "slideshow": {
     "slide_type": ""
    },
    "tags": []
   },
   "outputs": [],
   "source": []
  },
  {
   "cell_type": "markdown",
   "metadata": {
    "slideshow": {
     "slide_type": ""
    },
    "tags": []
   },
   "source": [
    "5. Déterminez la médiane et les quartiles des notes"
   ]
  },
  {
   "cell_type": "code",
   "execution_count": null,
   "metadata": {
    "slideshow": {
     "slide_type": ""
    },
    "tags": []
   },
   "outputs": [],
   "source": []
  },
  {
   "cell_type": "markdown",
   "metadata": {
    "slideshow": {
     "slide_type": ""
    },
    "tags": []
   },
   "source": [
    "6. En déduire le DIQ"
   ]
  },
  {
   "cell_type": "code",
   "execution_count": null,
   "metadata": {
    "slideshow": {
     "slide_type": ""
    },
    "tags": []
   },
   "outputs": [],
   "source": []
  },
  {
   "cell_type": "markdown",
   "metadata": {
    "slideshow": {
     "slide_type": ""
    },
    "tags": []
   },
   "source": [
    "7. Dessinez la boite à moustache associée sur une feuille.\n",
    "\n",
    "Selon les calculs effectués, y a-t-il une variable hors épure parmi ces notes ?"
   ]
  },
  {
   "cell_type": "code",
   "execution_count": null,
   "metadata": {
    "slideshow": {
     "slide_type": ""
    },
    "tags": []
   },
   "outputs": [],
   "source": []
  }
 ],
 "metadata": {
  "kernelspec": {
   "display_name": "Python 3 (ipykernel)",
   "language": "python",
   "name": "python3"
  },
  "language_info": {
   "codemirror_mode": {
    "name": "ipython",
    "version": 3
   },
   "file_extension": ".py",
   "mimetype": "text/x-python",
   "name": "python",
   "nbconvert_exporter": "python",
   "pygments_lexer": "ipython3",
   "version": "3.10.12"
  }
 },
 "nbformat": 4,
 "nbformat_minor": 4
}
